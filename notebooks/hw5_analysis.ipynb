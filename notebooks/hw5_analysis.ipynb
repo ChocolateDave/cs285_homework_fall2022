{
 "cells": [
  {
   "cell_type": "markdown",
   "metadata": {},
   "source": [
    "# CS285 Fall 2022 Homework 5\n",
    "\n",
    "@ Author Juanwu Lu\n",
    "\n",
    "@ Date  Nov-14-22\n",
    "\n",
    "&copy; UC Berkeley"
   ]
  },
  {
   "cell_type": "code",
   "execution_count": 4,
   "metadata": {},
   "outputs": [],
   "source": [
    "from __future__ import annotations\n",
    "\n",
    "import pandas as pd"
   ]
  },
  {
   "cell_type": "code",
   "execution_count": 5,
   "metadata": {},
   "outputs": [],
   "source": [
    "# Common Tensorboard Data Preprocessing function\n",
    "def _process_df(df: pd.DataFrame, name: str = None) -> None:\n",
    "    assert ('Step' in df.columns) and ('Value' in df.columns)\n",
    "    df.sort_values(by=['Step'], inplace=True)\n",
    "    df.rename(\n",
    "        columns={'Step': 'Time Step', 'Value': name or 'Value'},\n",
    "        inplace=True\n",
    "    )\n",
    "    if 'Wall time' in df.columns:\n",
    "        df.drop(labels=['Wall time'], axis=1, inplace=True)"
   ]
  },
  {
   "cell_type": "markdown",
   "metadata": {},
   "source": [
    "## Problem 1: \"Unspervised\" RND and exploration performance\n",
    "\n",
    "- <input type=\"checkbox\"> Implement the RND algorithm\n",
    "- <input type=\"checkbox\"> Use the `argmax` policy regarding exploration critic to generate state-action tuples\n",
    "- <input type=\"checkbox\"> __Pick two of the three envs and compare RND exploration to random one__\n",
    "- <input type=\"checkbox\"> Implement a separate exploration strategy of your own choice."
   ]
  },
  {
   "cell_type": "code",
   "execution_count": null,
   "metadata": {},
   "outputs": [],
   "source": []
  },
  {
   "cell_type": "markdown",
   "metadata": {},
   "source": [
    "## Problem 2: Offline learning on exploration data\n",
    "\n",
    "- <input type=\"checkbox\"> Implement the conservative Q-learning algorithm\n",
    "- <input type=\"checkbox\"> Use the CQL critic as the extrinsic critic and compare it to a standard DQN critic.\n",
    "- <input type=\"checkbox\">"
   ]
  },
  {
   "cell_type": "code",
   "execution_count": null,
   "metadata": {},
   "outputs": [],
   "source": []
  },
  {
   "cell_type": "markdown",
   "metadata": {},
   "source": [
    "## Problem 3: \"Supervised\" exploration with mixed reward bonuses\n",
    "\n",
    "- <input type=\"checkbox\">"
   ]
  },
  {
   "cell_type": "code",
   "execution_count": null,
   "metadata": {},
   "outputs": [],
   "source": []
  },
  {
   "cell_type": "markdown",
   "metadata": {},
   "source": [
    "## Problem 4: Offline Learning with AWAC"
   ]
  },
  {
   "cell_type": "code",
   "execution_count": null,
   "metadata": {},
   "outputs": [],
   "source": []
  },
  {
   "cell_type": "markdown",
   "metadata": {},
   "source": [
    "## Problem 5: Offline Learning with IQL"
   ]
  },
  {
   "cell_type": "code",
   "execution_count": null,
   "metadata": {},
   "outputs": [],
   "source": []
  }
 ],
 "metadata": {
  "kernelspec": {
   "display_name": "Python 3.7.13 ('juanwu_cs285')",
   "language": "python",
   "name": "python3"
  },
  "language_info": {
   "codemirror_mode": {
    "name": "ipython",
    "version": 3
   },
   "file_extension": ".py",
   "mimetype": "text/x-python",
   "name": "python",
   "nbconvert_exporter": "python",
   "pygments_lexer": "ipython3",
   "version": "3.7.13"
  },
  "orig_nbformat": 4,
  "vscode": {
   "interpreter": {
    "hash": "dabfb9edd6f0b01bcba20c8b5c22bed4c56635c47168437081608022d6be55db"
   }
  }
 },
 "nbformat": 4,
 "nbformat_minor": 2
}
